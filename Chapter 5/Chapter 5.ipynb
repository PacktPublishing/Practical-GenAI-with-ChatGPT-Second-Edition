{
 "cells": [
  {
   "cell_type": "code",
   "execution_count": 4,
   "metadata": {},
   "outputs": [
    {
     "name": "stdout",
     "output_type": "stream",
     "text": [
      "0:00:00.115022\n"
     ]
    }
   ],
   "source": [
    "from timeit import default_timer as timer \n",
    "from datetime import timedelta\n",
    "\n",
    "start = timer()\n",
    "elements = list(range(1_000_000)) \n",
    "data = []\n",
    "for el in elements: \n",
    "    if not el % 2:\n",
    "        data.append(el)\n",
    "\n",
    "end = timer() \n",
    "print(timedelta(seconds=end-start))\n"
   ]
  },
  {
   "cell_type": "code",
   "execution_count": 5,
   "metadata": {},
   "outputs": [
    {
     "name": "stdout",
     "output_type": "stream",
     "text": [
      "0:00:00.064070\n"
     ]
    }
   ],
   "source": [
    "start = timer()\n",
    "elements = list(range(1_000_000))\n",
    "data = [el for el in elements if el % 2 != 0]\n",
    "end = timer() \n",
    "print(timedelta(seconds=end-start))"
   ]
  },
  {
   "cell_type": "code",
   "execution_count": 11,
   "metadata": {},
   "outputs": [
    {
     "name": "stdout",
     "output_type": "stream",
     "text": [
      "0:00:00.091243\n"
     ]
    }
   ],
   "source": [
    "start = timer()\n",
    "elements = list(range(1_000_000))\n",
    "data = list(filter(lambda el: el % 2 != 0, elements))\n",
    "end = timer() \n",
    "print(timedelta(seconds=end-start))"
   ]
  },
  {
   "cell_type": "code",
   "execution_count": 12,
   "metadata": {},
   "outputs": [
    {
     "name": "stdout",
     "output_type": "stream",
     "text": [
      "t_\n"
     ]
    }
   ],
   "source": [
    "def add_underscores(word):\n",
    "    new_word = \"_\"\n",
    "    for i in range(len(word)):\n",
    "        new_word = word[i] + \"_\"\n",
    "    return new_word\n",
    "\n",
    "phrase = \"gpt\"\n",
    "print(add_underscores(phrase))"
   ]
  },
  {
   "cell_type": "code",
   "execution_count": 13,
   "metadata": {},
   "outputs": [
    {
     "name": "stdout",
     "output_type": "stream",
     "text": [
      "g_p_t_\n"
     ]
    }
   ],
   "source": [
    "def add_underscores(word):\n",
    "    new_word = \"\"\n",
    "    for i in range(len(word)):\n",
    "        new_word += word[i] + \"_\"\n",
    "    return new_word\n",
    "\n",
    "phrase = \"gpt\"\n",
    "print(add_underscores(phrase))\n"
   ]
  },
  {
   "cell_type": "code",
   "execution_count": 14,
   "metadata": {},
   "outputs": [
    {
     "name": "stdout",
     "output_type": "stream",
     "text": [
      "g_p_t_\n"
     ]
    }
   ],
   "source": [
    "class UnderscoreAdder:\n",
    "    def __init__(self, word):\n",
    "        self.word = word\n",
    "\n",
    "    def add_underscores(self):\n",
    "        new_word = \"\"\n",
    "        for i in range(len(self.word)):\n",
    "            new_word += self.word[i] + \"_\"\n",
    "        return new_word\n",
    "\n",
    "# Example usage:\n",
    "phrase = \"gpt\"\n",
    "adder = UnderscoreAdder(phrase)\n",
    "print(adder.add_underscores())\n"
   ]
  },
  {
   "cell_type": "code",
   "execution_count": 15,
   "metadata": {},
   "outputs": [
    {
     "name": "stdout",
     "output_type": "stream",
     "text": [
      "g_p_t_\n"
     ]
    }
   ],
   "source": [
    "class UnderscoreAdder:\n",
    "    \"\"\"\n",
    "    A class to add underscores after each letter of a word.\n",
    "\n",
    "    Attributes\n",
    "    ----------\n",
    "    word : str\n",
    "        The word to which underscores will be added.\n",
    "\n",
    "    Methods\n",
    "    -------\n",
    "    add_underscores():\n",
    "        Returns a new string with underscores added after each letter of the word.\n",
    "    \"\"\"\n",
    "\n",
    "    def __init__(self, word):\n",
    "        \"\"\"\n",
    "        Initializes the UnderscoreAdder with a word.\n",
    "\n",
    "        Parameters\n",
    "        ----------\n",
    "        word : str\n",
    "            The word to which underscores will be added.\n",
    "        \"\"\"\n",
    "        self.word = word\n",
    "\n",
    "    def add_underscores(self):\n",
    "        \"\"\"\n",
    "        Adds an underscore after each letter of the word.\n",
    "\n",
    "        Returns\n",
    "        -------\n",
    "        str\n",
    "            A new string with underscores added after each letter of the word.\n",
    "        \"\"\"\n",
    "        new_word = \"\"\n",
    "        for i in range(len(self.word)):\n",
    "            new_word += self.word[i] + \"_\"\n",
    "        return new_word\n",
    "\n",
    "# Example usage:\n",
    "phrase = \"gpt\"\n",
    "adder = UnderscoreAdder(phrase)\n",
    "print(adder.add_underscores())  # Output: g_p_t_\n"
   ]
  },
  {
   "cell_type": "code",
   "execution_count": 16,
   "metadata": {},
   "outputs": [
    {
     "name": "stdout",
     "output_type": "stream",
     "text": [
      "\u001b[1;31mInit signature:\u001b[0m \u001b[0mUnderscoreAdder\u001b[0m\u001b[1;33m(\u001b[0m\u001b[0mword\u001b[0m\u001b[1;33m)\u001b[0m\u001b[1;33m\u001b[0m\u001b[1;33m\u001b[0m\u001b[0m\n",
      "\u001b[1;31mDocstring:\u001b[0m     \n",
      "A class to add underscores after each letter of a word.\n",
      "\n",
      "Attributes\n",
      "----------\n",
      "word : str\n",
      "    The word to which underscores will be added.\n",
      "\n",
      "Methods\n",
      "-------\n",
      "add_underscores():\n",
      "    Returns a new string with underscores added after each letter of the word.\n",
      "\u001b[1;31mInit docstring:\u001b[0m\n",
      "Initializes the UnderscoreAdder with a word.\n",
      "\n",
      "Parameters\n",
      "----------\n",
      "word : str\n",
      "    The word to which underscores will be added.\n",
      "\u001b[1;31mType:\u001b[0m           type\n",
      "\u001b[1;31mSubclasses:\u001b[0m     "
     ]
    }
   ],
   "source": [
    "UnderscoreAdder?"
   ]
  }
 ],
 "metadata": {
  "kernelspec": {
   "display_name": "base",
   "language": "python",
   "name": "python3"
  },
  "language_info": {
   "codemirror_mode": {
    "name": "ipython",
    "version": 3
   },
   "file_extension": ".py",
   "mimetype": "text/x-python",
   "name": "python",
   "nbconvert_exporter": "python",
   "pygments_lexer": "ipython3",
   "version": "3.11.7"
  }
 },
 "nbformat": 4,
 "nbformat_minor": 2
}
