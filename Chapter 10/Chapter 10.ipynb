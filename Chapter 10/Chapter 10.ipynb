{
 "cells": [
  {
   "cell_type": "code",
   "execution_count": 1,
   "metadata": {},
   "outputs": [
    {
     "name": "stdout",
     "output_type": "stream",
     "text": [
      "Yes, other Azure AI services also support customer managed keys (CMK). For example:\n",
      "\n",
      "1. **Azure Cognitive Services**: Supported services like Text Analytics, Computer Vision, and others offer customer managed keys to help ensure that customers have control over the encryption of their data.\n",
      "\n",
      "2. **Azure Machine Learning**: Azure Machine Learning supports customer managed keys for encrypting data at rest, including artifacts stored in the workspace storage account and Azure Machine Learning-managed resources.\n",
      "\n",
      "3. **Azure Synapse Analytics**: This service also supports customer managed keys, providing encryption for data stored and used within Synapse workspaces.\n",
      "\n",
      "Customer managed keys offer an additional level of security by allowing customers to have control over the encryption keys used to protect their data, adding an extra layer of protection beyond the default platform-managed keys.\n",
      "\n",
      "For precise details and to confirm the availability or any changes to the offering, it’s always a good idea to refer to the official Azure documentation or contact Azure support.\n"
     ]
    }
   ],
   "source": [
    "import os\n",
    "from openai import AzureOpenAI\n",
    "\n",
    "client = AzureOpenAI(\n",
    "  azure_endpoint = \"xxx\", \n",
    "  api_key=\"xxx\"\n",
    "  api_version=\"2024-02-15-preview\"\n",
    ")\n",
    "\n",
    "response = client.chat.completions.create(\n",
    "    model=\"gpt-4o\", # model = \"deployment_name\".\n",
    "    messages=[\n",
    "        {\"role\": \"system\", \"content\": \"You are a helpful assistant.\"},\n",
    "        {\"role\": \"user\", \"content\": \"Does Azure OpenAI support customer managed keys?\"},\n",
    "        {\"role\": \"assistant\", \"content\": \"Yes, customer managed keys are supported by Azure OpenAI.\"},\n",
    "        {\"role\": \"user\", \"content\": \"Do other Azure AI services support this too?\"}\n",
    "    ]\n",
    ")\n",
    "\n",
    "print(response.choices[0].message.content)"
   ]
  },
  {
   "cell_type": "code",
   "execution_count": 5,
   "metadata": {},
   "outputs": [
    {
     "data": {
      "text/plain": [
       "{'id': 'chatcmpl-9znQeWUbRyGmy3pWf7VfFWAppMCo7',\n",
       " 'choices': [{'finish_reason': 'stop',\n",
       "   'index': 0,\n",
       "   'logprobs': None,\n",
       "   'message': {'content': 'Yes, other Azure AI services also support customer managed keys (CMK). For example:\\n\\n1. **Azure Cognitive Services**: Supported services like Text Analytics, Computer Vision, and others offer customer managed keys to help ensure that customers have control over the encryption of their data.\\n\\n2. **Azure Machine Learning**: Azure Machine Learning supports customer managed keys for encrypting data at rest, including artifacts stored in the workspace storage account and Azure Machine Learning-managed resources.\\n\\n3. **Azure Synapse Analytics**: This service also supports customer managed keys, providing encryption for data stored and used within Synapse workspaces.\\n\\nCustomer managed keys offer an additional level of security by allowing customers to have control over the encryption keys used to protect their data, adding an extra layer of protection beyond the default platform-managed keys.\\n\\nFor precise details and to confirm the availability or any changes to the offering, it’s always a good idea to refer to the official Azure documentation or contact Azure support.',\n",
       "    'role': 'assistant'},\n",
       "   'content_filter_results': {'hate': {'filtered': False, 'severity': 'safe'},\n",
       "    'self_harm': {'filtered': False, 'severity': 'safe'},\n",
       "    'sexual': {'filtered': False, 'severity': 'safe'},\n",
       "    'violence': {'filtered': False, 'severity': 'safe'}}}],\n",
       " 'created': 1724515040,\n",
       " 'model': 'gpt-4o-2024-05-13',\n",
       " 'object': 'chat.completion',\n",
       " 'system_fingerprint': 'fp_abc28019ad',\n",
       " 'usage': {'completion_tokens': 193, 'prompt_tokens': 55, 'total_tokens': 248},\n",
       " 'prompt_filter_results': [{'prompt_index': 0,\n",
       "   'content_filter_results': {'hate': {'filtered': False, 'severity': 'safe'},\n",
       "    'self_harm': {'filtered': False, 'severity': 'safe'},\n",
       "    'sexual': {'filtered': False, 'severity': 'safe'},\n",
       "    'violence': {'filtered': False, 'severity': 'safe'}}}]}"
      ]
     },
     "execution_count": 5,
     "metadata": {},
     "output_type": "execute_result"
    }
   ],
   "source": [
    "response.to_dict()"
   ]
  }
 ],
 "metadata": {
  "kernelspec": {
   "display_name": "base",
   "language": "python",
   "name": "python3"
  },
  "language_info": {
   "codemirror_mode": {
    "name": "ipython",
    "version": 3
   },
   "file_extension": ".py",
   "mimetype": "text/x-python",
   "name": "python",
   "nbconvert_exporter": "python",
   "pygments_lexer": "ipython3",
   "version": "3.11.7"
  }
 },
 "nbformat": 4,
 "nbformat_minor": 2
}
